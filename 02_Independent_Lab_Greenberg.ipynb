{
 "cells": [
  {
   "cell_type": "markdown",
   "id": "3b1db646-f970-4e9a-b4ff-78ce9fda1f9f",
   "metadata": {},
   "source": [
    "# Week 2 Independent Lab: Celsius to Fahrenheit Converter\n",
    "\n",
    "**Course Name:** Python (BGEN 632)\n",
    "**Section:** V60\n",
    "**Course ID:** 34475\n",
    "**Term:** Spring 2025\n",
    "**Author:** Thomas Greenberg, MSBA\n",
    "**Submission Date:** March 11, 2025\n",
    "\n",
    "Welcome to my Fahrenheit to Celsious Converter 3,000!\n",
    "This notebook converts Celsius temps to Farhrenheit."
   ]
  },
  {
   "cell_type": "code",
   "execution_count": 1,
   "id": "e58a15a7-4f2b-410d-872d-4c1aed30dbca",
   "metadata": {},
   "outputs": [
    {
     "name": "stdin",
     "output_type": "stream",
     "text": [
      "Please provide a value in Celsius to convert:\n",
      " 25\n"
     ]
    },
    {
     "name": "stdout",
     "output_type": "stream",
     "text": [
      "25.0 degrees Celsius is 77.00 degrees Fahrenheit.\n",
      "Integer Fahrenheit Value: 77\n",
      "Data type of int_fahrenheit: <class 'int'>\n"
     ]
    }
   ],
   "source": [
    "# Step 1: Initialize variables\n",
    "celsius = 0.0\n",
    "fahrenheit = 0.0\n",
    "\n",
    "# Step 2: Ask user for Celsius input and store it as a float\n",
    "while True:\n",
    "    try:\n",
    "        celsius = float(input(\"Please provide a value in Celsius to convert:\\n\"))\n",
    "        break\n",
    "    except ValueError:\n",
    "        print(\"Invalid input. Please enter a numeric value.\")\n",
    "\n",
    "# Step 3: Convert Celsius to Fahrenheit\n",
    "fahrenheit = (9 / 5) * celsius + 32\n",
    "\n",
    "# Step 4: Output the result using string interpolation\n",
    "print(f\"{celsius} degrees Celsius is {fahrenheit:.2f} degrees Fahrenheit.\")\n",
    "\n",
    "# Step 5: Convert Fahrenheit to integer and display the result\n",
    "int_fahrenheit = int(fahrenheit)\n",
    "print(f\"Integer Fahrenheit Value: {int_fahrenheit}\")\n",
    "print(f\"Data type of int_fahrenheit: {type(int_fahrenheit)}\")"
   ]
  },
  {
   "cell_type": "code",
   "execution_count": null,
   "id": "d8870a62-d9de-40fc-b167-1e926acfd187",
   "metadata": {},
   "outputs": [],
   "source": []
  }
 ],
 "metadata": {
  "kernelspec": {
   "display_name": "Python 3 (ipykernel)",
   "language": "python",
   "name": "python3"
  },
  "language_info": {
   "codemirror_mode": {
    "name": "ipython",
    "version": 3
   },
   "file_extension": ".py",
   "mimetype": "text/x-python",
   "name": "python",
   "nbconvert_exporter": "python",
   "pygments_lexer": "ipython3",
   "version": "3.13.2"
  }
 },
 "nbformat": 4,
 "nbformat_minor": 5
}
