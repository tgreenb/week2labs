{
 "cells": [
  {
   "cell_type": "markdown",
   "id": "136947c4-e057-4395-b873-a989c9008307",
   "metadata": {
    "editable": true,
    "slideshow": {
     "slide_type": ""
    },
    "tags": []
   },
   "source": [
    "UM MSBA - BGEN 632\n",
    "\n",
    "# Week 2 Instructor-led Lab\n",
    "\n",
    "In this assignment you will create basic code showcasing the concepts you learned about in the tutorial. \n",
    "\n",
    "**Create Code cells below this Markdown cell to complete the assignment. Write and run your code. To get full points, your submitted notebook must include saved output in addition to written code.** \n",
    "\n",
    "For this assignment, you are not required to create any Markdown cells but you are encouraged to do so to improve the aesthetics and organization of your lab submission. \n",
    "\n",
    "As stated in the syllabus, you <ins>must</ins> include information about your use of online resources to complete assignments, including chatbots like ChatGPT. You can include reference information within your notebooks and/or within separate files pushed to your repo on GitHub. Failure to disclose the use of online resources is a violation of course policy.\n",
    "\n",
    "## Assigning Values\n",
    "\n",
    "For this portion of the assignment, you will create variables in your notebook. You will assign a value to each variable. Please perform the following tasks and create each variable by assigning the following values:\n",
    "\n",
    "* my_int assign it a number between 1 and 20, inclusive.\n",
    "* long_a assign it the number 6,323,527,192.\n",
    "* float_pi assign it the number 3.14159\n",
    "* my_double assign it a fractional number with 13 decimals.\n",
    "* decimal_a assign it a fractional number with 20 decimals.\n",
    "* big_griz assign it the value G (uppercase).\n",
    "* my_hello assign it a greeting to the entire class.\n",
    "* my_goodbye assign it a farewell to your class.\n",
    "\n",
    "## Single Line Comments\n",
    "\n",
    "At the end of each variable, on the same line, place a single-line comment with a short description of each variable. For example, it would look like this:\n",
    "\n",
    "```\n",
    "new_double = 38.936921934     # A double with 9 decimal places\n",
    "```\n",
    "\n",
    "## Print Output\n",
    "\n",
    "Now that you have assigned values to your variables, let's print them. Output each variable individually.\n",
    "\n",
    "## Type Conversion\n",
    "\n",
    "The last task you have for this lab involves type conversion. Create new variables with the following types, names, and values. Use an explicit type conversion.\n",
    "\n",
    "* `int` named my_new_int with a number between 1 and 20, inclusive.\n",
    "* `float` named float_b with value 3.14159.\n",
    "  \n",
    "Output both variables. \n",
    "\n",
    "---"
   ]
  },
  {
   "cell_type": "code",
   "execution_count": 1,
   "id": "d66e4214-94a0-47c8-8db0-6d044515b322",
   "metadata": {},
   "outputs": [
    {
     "name": "stdout",
     "output_type": "stream",
     "text": [
      "7\n"
     ]
    }
   ],
   "source": [
    "my_int = 7 # A common choice, number between 1 and 20\n",
    "long_a = 6323527192 # Assinged the long number\n",
    "float_pi = 3.14159 # Pi to the fifth decimal\n",
    "my_double = 0.1234567891111 # Fraction to 13 decimals\n",
    "decimal_a = 0.12345678912345678912 # Fraction to 20 decimals\n",
    "big_griz = \"G\" # Uppercase G\n",
    "my_hello = \"Hello Ya'll!\" # Proper greeting to the entire class\n",
    "my_goodbye = \"Toodles\" # Farewell adress to the entire class\n",
    "\n",
    "print(my_int)"
   ]
  },
  {
   "cell_type": "code",
   "execution_count": 2,
   "id": "c4db4ccf-fb65-48d3-88bf-4e9a9e292d4e",
   "metadata": {},
   "outputs": [
    {
     "name": "stdout",
     "output_type": "stream",
     "text": [
      "6323527192\n"
     ]
    }
   ],
   "source": [
    "print(long_a)"
   ]
  },
  {
   "cell_type": "code",
   "execution_count": 3,
   "id": "60bb25c7-59b4-41b9-b270-d2e162f34b82",
   "metadata": {},
   "outputs": [
    {
     "name": "stdout",
     "output_type": "stream",
     "text": [
      "3.14159\n"
     ]
    }
   ],
   "source": [
    "print(float_pi)"
   ]
  },
  {
   "cell_type": "code",
   "execution_count": 4,
   "id": "28b70d6e-02d9-475b-a6a4-dfe6130ccefa",
   "metadata": {},
   "outputs": [
    {
     "name": "stdout",
     "output_type": "stream",
     "text": [
      "0.1234567891111\n"
     ]
    }
   ],
   "source": [
    "print(my_double)"
   ]
  },
  {
   "cell_type": "code",
   "execution_count": 5,
   "id": "d5ec1e41-81ef-49e0-b69e-f56e04cf7d49",
   "metadata": {},
   "outputs": [
    {
     "name": "stdout",
     "output_type": "stream",
     "text": [
      "0.12345678912345678\n"
     ]
    }
   ],
   "source": [
    "print(decimal_a)"
   ]
  },
  {
   "cell_type": "code",
   "execution_count": 6,
   "id": "18924bd5-6030-4140-9092-f9e12e03af17",
   "metadata": {},
   "outputs": [
    {
     "name": "stdout",
     "output_type": "stream",
     "text": [
      "G\n"
     ]
    }
   ],
   "source": [
    "print(big_griz)"
   ]
  },
  {
   "cell_type": "code",
   "execution_count": 7,
   "id": "44c78efa-bda7-44e7-bad2-c9865acc6e37",
   "metadata": {},
   "outputs": [
    {
     "name": "stdout",
     "output_type": "stream",
     "text": [
      "Hello Ya'll!\n"
     ]
    }
   ],
   "source": [
    "print(my_hello)"
   ]
  },
  {
   "cell_type": "code",
   "execution_count": 8,
   "id": "19694efc-8b9f-414c-86b9-7f77de001316",
   "metadata": {},
   "outputs": [
    {
     "name": "stdout",
     "output_type": "stream",
     "text": [
      "Toodles\n"
     ]
    }
   ],
   "source": [
    "print(my_goodbye)"
   ]
  },
  {
   "cell_type": "code",
   "execution_count": 9,
   "id": "037db271-516d-4c4b-a46f-7a1b11b640a2",
   "metadata": {},
   "outputs": [
    {
     "name": "stdout",
     "output_type": "stream",
     "text": [
      "14\n",
      "3.14159\n"
     ]
    }
   ],
   "source": [
    "my_new_int = int(14) # Creating an interger from a number\n",
    "float_b = float(3.14159) # Changing to float\n",
    "\n",
    "#Output from new variables\n",
    "print(my_new_int)\n",
    "print(float_b) \n"
   ]
  },
  {
   "cell_type": "code",
   "execution_count": null,
   "id": "696f6b5c-932c-413d-8ef0-a64969de83a5",
   "metadata": {},
   "outputs": [],
   "source": []
  }
 ],
 "metadata": {
  "kernelspec": {
   "display_name": "Python 3 (ipykernel)",
   "language": "python",
   "name": "python3"
  },
  "language_info": {
   "codemirror_mode": {
    "name": "ipython",
    "version": 3
   },
   "file_extension": ".py",
   "mimetype": "text/x-python",
   "name": "python",
   "nbconvert_exporter": "python",
   "pygments_lexer": "ipython3",
   "version": "3.13.2"
  }
 },
 "nbformat": 4,
 "nbformat_minor": 5
}
